{
 "cells": [
  {
   "cell_type": "markdown",
   "id": "de25f87a",
   "metadata": {},
   "source": [
    "## Import Module ##"
   ]
  },
  {
   "cell_type": "code",
   "execution_count": 1,
   "id": "2fc979ca",
   "metadata": {},
   "outputs": [],
   "source": [
    "import numpy as np\n",
    "import RPi.GPIO as GPIO\n",
    "import time\n",
    "from openpyxl import Workbook, load_workbook\n",
    "from openpyxl.utils import get_column_letter"
   ]
  },
  {
   "cell_type": "markdown",
   "id": "72392bea",
   "metadata": {},
   "source": [
    "## Variable Definitions ##"
   ]
  },
  {
   "cell_type": "code",
   "execution_count": 2,
   "id": "b0cd94fe",
   "metadata": {},
   "outputs": [],
   "source": [
    "size = 256\n",
    "polarity = 1\n",
    "RC_time_constant = 1 # delay for capcitor RC time constant\n",
    "sleep = 0.01\n",
    "bit = 1"
   ]
  },
  {
   "cell_type": "code",
   "execution_count": 3,
   "id": "ad07bc90",
   "metadata": {},
   "outputs": [],
   "source": [
    "wb = load_workbook('DAK.xlsx')\n",
    "ws = wb['Sheet2']"
   ]
  },
  {
   "cell_type": "code",
   "execution_count": 4,
   "id": "55ae15b1",
   "metadata": {},
   "outputs": [
    {
     "name": "stdout",
     "output_type": "stream",
     "text": [
      "[[0 0 0 0 0 0 0 0 0 0 0 0 0 0 0 0]\n",
      " [0 1 1 1 1 1 1 1 1 1 1 0 0 0 0 0]\n",
      " [0 1 1 1 1 1 1 1 1 1 1 1 1 0 0 0]\n",
      " [0 1 1 1 1 1 1 1 1 1 1 1 1 0 0 0]\n",
      " [0 0 1 1 1 1 1 1 1 1 0 0 1 1 0 0]\n",
      " [0 0 0 1 1 1 1 1 1 0 0 0 0 1 1 0]\n",
      " [0 0 0 1 1 1 1 1 1 0 0 0 0 1 1 0]\n",
      " [0 0 1 1 1 1 1 1 1 1 0 0 1 1 0 0]\n",
      " [0 1 1 1 1 1 1 1 1 1 1 1 1 1 0 0]\n",
      " [0 1 1 1 1 1 1 1 1 1 1 1 1 0 0 0]\n",
      " [0 1 1 1 1 1 1 1 1 1 1 0 0 0 0 0]\n",
      " [0 0 0 0 0 0 0 0 0 0 0 0 0 0 0 0]]\n"
     ]
    }
   ],
   "source": [
    "d = np.array([\n",
    "    [0,0,0,0,0,0,0,0,0,0,0,0,0,0,0,0],\n",
    "    [0,1,1,1,1,1,1,1,1,1,1,0,0,0,0,0],\n",
    "    [0,1,1,1,1,1,1,1,1,1,1,1,1,0,0,0],\n",
    "    [0,1,1,1,1,1,1,1,1,1,1,1,1,0,0,0],\n",
    "    [0,0,1,1,1,1,1,1,1,1,0,0,1,1,0,0],\n",
    "    [0,0,0,1,1,1,1,1,1,0,0,0,0,1,1,0],\n",
    "    [0,0,0,1,1,1,1,1,1,0,0,0,0,1,1,0],\n",
    "    [0,0,1,1,1,1,1,1,1,1,0,0,1,1,0,0],\n",
    "    [0,1,1,1,1,1,1,1,1,1,1,1,1,1,0,0],\n",
    "    [0,1,1,1,1,1,1,1,1,1,1,1,1,0,0,0],\n",
    "    [0,1,1,1,1,1,1,1,1,1,1,0,0,0,0,0],\n",
    "    [0,0,0,0,0,0,0,0,0,0,0,0,0,0,0,0],])\n",
    "\n",
    "print(d)"
   ]
  },
  {
   "cell_type": "code",
   "execution_count": null,
   "id": "550a3cdd",
   "metadata": {},
   "outputs": [],
   "source": []
  },
  {
   "cell_type": "markdown",
   "id": "b93f608a",
   "metadata": {},
   "source": [
    "## Hardware Setup ##"
   ]
  },
  {
   "cell_type": "code",
   "execution_count": 5,
   "id": "81bc44be",
   "metadata": {},
   "outputs": [],
   "source": [
    "GPIO.setmode(GPIO.BCM)\n",
    "GPIO.setwarnings(False)"
   ]
  },
  {
   "cell_type": "code",
   "execution_count": 6,
   "id": "22d0b69d",
   "metadata": {},
   "outputs": [],
   "source": [
    "data = 2 #  26 DIOA on HV507, 14 SER on 74HC595 - Red\n",
    "NBL = 3 #   29 !BL on HV507,  10 !SRCLR on 74HC595 - Green\n",
    "NPol = 4 #  30 !POL on HV507, not present on 74HC595 - Clear\n",
    "CLK  = 17 # 37 CLK on HV507,  11 SRCLK on 74HC595 - Blue\n",
    "NLE = 27 #  38 !LE on HV507,  12 RCLK on 74HC595 - Yellow"
   ]
  },
  {
   "cell_type": "code",
   "execution_count": 7,
   "id": "02e1af07",
   "metadata": {},
   "outputs": [],
   "source": [
    "HB1L = 19 # opto-isolator U4\n",
    "HB1H = 26 # opto-isolator U5\n",
    "HB2L = 6 #  opto-isolator U7\n",
    "HB2H = 13 # opto-isolator U6\n",
    "HB3L = 9 #  opto-isolator U8\n",
    "HB3H = 11 # opto-isolator U9\n",
    "HV100_ON = 20 # U3\n",
    "HV300_ON = 21 # U2\n",
    "DISCHARGE100V = 23 # MOSFET U10\n",
    "DISCHARGE300V = 24 # MOSFET U11"
   ]
  },
  {
   "cell_type": "code",
   "execution_count": 8,
   "id": "736f6d3c",
   "metadata": {},
   "outputs": [],
   "source": [
    "GPIO.setup(data, GPIO.OUT, initial = 0)\n",
    "GPIO.setup(NBL, GPIO.OUT, initial = 0)\n",
    "GPIO.setup(NPol, GPIO.OUT, initial = 1)\n",
    "GPIO.setup(CLK, GPIO.OUT, initial = 0)\n",
    "GPIO.setup(NLE, GPIO.OUT, initial = 0)"
   ]
  },
  {
   "cell_type": "code",
   "execution_count": 9,
   "id": "654535b0",
   "metadata": {},
   "outputs": [],
   "source": [
    "GPIO.setup(HB1L, GPIO.OUT, initial = 0)\n",
    "GPIO.setup(HB1H, GPIO.OUT, initial = 0)\n",
    "GPIO.setup(HB2L, GPIO.OUT, initial = 0)\n",
    "GPIO.setup(HB2H, GPIO.OUT, initial = 0)\n",
    "GPIO.setup(HB3L, GPIO.OUT, initial = 0)\n",
    "GPIO.setup(HB3H, GPIO.OUT, initial = 0)\n",
    "GPIO.setup(HV100_ON, GPIO.OUT, initial = 0)\n",
    "GPIO.setup(HV300_ON, GPIO.OUT, initial = 0)\n",
    "GPIO.setup(DISCHARGE100V, GPIO.OUT, initial = 0)\n",
    "GPIO.setup(DISCHARGE300V, GPIO.OUT, initial = 0)"
   ]
  },
  {
   "cell_type": "code",
   "execution_count": 10,
   "id": "7f1a312b",
   "metadata": {},
   "outputs": [],
   "source": [
    "def inject_numpy():\n",
    "    for row in range(8,12):\n",
    "        for col in range(0,16):\n",
    "            val = int(d[row,col])\n",
    "            HV507_load_shift_register(val)\n",
    "            print(\"row = \", row,\" col = \", col, \" val = \", val)\n",
    "    for row in range(4,8):\n",
    "        for col in range(0,16):\n",
    "            val = int(d[row,col])\n",
    "            HV507_load_shift_register(val)\n",
    "            print(\"row = \", row,\" col = \", col, \" val = \", val)\n",
    "    for row in range(0,4):\n",
    "        for col in range(0,16):                       \n",
    "            val = int(d[row,col])\n",
    "            HV507_load_shift_register(val)\n",
    "            print(\"row = \", row,\" col = \", col, \" val = \", val)\n",
    "    HV507_store_data_in_latches()\n",
    "    return"
   ]
  },
  {
   "cell_type": "code",
   "execution_count": 11,
   "id": "a63bb639",
   "metadata": {},
   "outputs": [],
   "source": [
    "def status():\n",
    "    print(\"##### Status #####\")\n",
    "    print(\"data = \", GPIO.input(data))\n",
    "    print(\"NBL = \", GPIO.input(NBL))\n",
    "    print(\"CLK = \", GPIO.input(CLK))\n",
    "    print(\"NLE = \", GPIO.input(NLE))\n",
    "    print(\"NPol = \", GPIO.input(NPol))\n",
    "    print(\"HB1L = \", GPIO.input(HB1L), \" HB1H = \", GPIO.input(HB1H))\n",
    "    print(\"HB2L = \", GPIO.input(HB2L), \" HB2H = \", GPIO.input(HB2H))\n",
    "    print(\"HB3L = \", GPIO.input(HB3L), \" HB3H = \", GPIO.input(HB3H))\n",
    "    print(\"HV100_ON = \", GPIO.input(HV100_ON))\n",
    "    print(\"HV300_ON = \", GPIO.input(HV300_ON ))\n",
    "    print(\"DISCHARGE100V = \", GPIO.input(DISCHARGE100V))\n",
    "    print(\"DISCHARGE300V = \", GPIO.input(DISCHARGE300V))\n",
    "    print(\"##################\")\n",
    "    return"
   ]
  },
  {
   "cell_type": "code",
   "execution_count": 12,
   "id": "bdb25f99",
   "metadata": {},
   "outputs": [],
   "source": [
    "def blank_display():\n",
    "    for x in range(size):\n",
    "        HV507_load_shift_register_low()\n",
    "    HV507_store_data_in_latches()\n",
    "    return"
   ]
  },
  {
   "cell_type": "code",
   "execution_count": 13,
   "id": "0df7adc8",
   "metadata": {},
   "outputs": [],
   "source": [
    "def HV507_all_on():    \n",
    "    GPIO.output(NBL, 0)\n",
    "    GPIO.output(NPol, 0)\n",
    "    return"
   ]
  },
  {
   "cell_type": "code",
   "execution_count": 14,
   "id": "91b74176",
   "metadata": {},
   "outputs": [],
   "source": [
    "def HV507_all_off():    \n",
    "    GPIO.output(NBL, 0)\n",
    "    GPIO.output(NPol, 1)\n",
    "    return"
   ]
  },
  {
   "cell_type": "code",
   "execution_count": 15,
   "id": "c08a0d23",
   "metadata": {},
   "outputs": [],
   "source": [
    "def HV507_invert_mode():\n",
    "    GPIO.output(NLE, 0)\n",
    "    GPIO.output(NBL, 1)\n",
    "    GPIO.output(NPol, 0)\n",
    "    return"
   ]
  },
  {
   "cell_type": "code",
   "execution_count": 16,
   "id": "4a381caf",
   "metadata": {},
   "outputs": [],
   "source": [
    "def HV507_load_shift_register(bit):\n",
    "    GPIO.output(data, bit)\n",
    "    GPIO.output(NLE, 0)\n",
    "    GPIO.output(NBL, 1)\n",
    "    GPIO.output(NPol, 1)\n",
    "    GPIO.output(CLK, 1)\n",
    "    GPIO.output(CLK, 0)\n",
    "    return"
   ]
  },
  {
   "cell_type": "code",
   "execution_count": 17,
   "id": "c33f25b7",
   "metadata": {},
   "outputs": [],
   "source": [
    "def HV507_load_shift_register_low():\n",
    "    GPIO.output(data, 0)\n",
    "    GPIO.output(NLE, 0)\n",
    "    GPIO.output(NBL, 1)\n",
    "    GPIO.output(NPol, 1)\n",
    "    GPIO.output(CLK, 1)\n",
    "    GPIO.output(CLK, 0)\n",
    "    return"
   ]
  },
  {
   "cell_type": "code",
   "execution_count": 18,
   "id": "1ff9dd23",
   "metadata": {},
   "outputs": [],
   "source": [
    "def HV507_load_shift_register_high():\n",
    "    GPIO.output(data, 1)\n",
    "    GPIO.output(NLE, 0)\n",
    "    GPIO.output(NBL, 1)\n",
    "    GPIO.output(NPol, 1)\n",
    "    GPIO.output(CLK, 1)\n",
    "    GPIO.output(CLK, 0)\n",
    "    return"
   ]
  },
  {
   "cell_type": "code",
   "execution_count": 19,
   "id": "54e2efb7",
   "metadata": {},
   "outputs": [],
   "source": [
    "def HV507_store_data_in_latches():    \n",
    "    GPIO.output(NBL, 1)\n",
    "    GPIO.output(NPol, 1)\n",
    "    GPIO.output(NLE, 0)\n",
    "    GPIO.output(NLE, 1) \n",
    "    return"
   ]
  },
  {
   "cell_type": "code",
   "execution_count": 20,
   "id": "a16e44f3",
   "metadata": {},
   "outputs": [],
   "source": [
    "def HV507_store_data_in_latches_not():    \n",
    "    GPIO.output(NBL, 1)\n",
    "    GPIO.output(NPol, 0)\n",
    "    GPIO.output(NLE, 0)\n",
    "    GPIO.output(NLE, 1) \n",
    "    return"
   ]
  },
  {
   "cell_type": "markdown",
   "id": "7efbe1c9",
   "metadata": {},
   "source": [
    "# H-Bridge Functions"
   ]
  },
  {
   "cell_type": "code",
   "execution_count": 21,
   "id": "c6593e10",
   "metadata": {},
   "outputs": [],
   "source": [
    "def polarity_swap():\n",
    "#     print(\"entering polarity_swap() function\")\n",
    "#     time.sleep(sleep)\n",
    "    global polarity\n",
    "    polarity = (1 - polarity)\n",
    "    GPIO.output(NPol, polarity)\n",
    "    if polarity == 1:\n",
    "        HV_400v()\n",
    "#         print(\"exiting polarity_swap() function with 300V and polarity of \", polarity)\n",
    "        return\n",
    "    HV_100v()\n",
    "#     print(\"exiting polarity_swap() function with 100V and polarity of \", polarity)\n",
    "    return"
   ]
  },
  {
   "cell_type": "code",
   "execution_count": 22,
   "id": "f12416e2",
   "metadata": {},
   "outputs": [],
   "source": [
    "def HV_400v():\n",
    "    print(\"entering HV_400v function\")\n",
    "    GPIO.output(HB1L, 0)\n",
    "    GPIO.output(HB2H, 0)\n",
    "    GPIO.output(HB3L, 0)\n",
    "    GPIO.output(HB1H, 1)\n",
    "    GPIO.output(HB2L, 1)    \n",
    "    GPIO.output(HB3H, 1)\n",
    "    print(\"exiting HV_400v function\")\n",
    "    return"
   ]
  },
  {
   "cell_type": "code",
   "execution_count": 23,
   "id": "03461f9c",
   "metadata": {},
   "outputs": [],
   "source": [
    "def HV_100v():\n",
    "    print(\"entering HV_100v function\")\n",
    "    GPIO.output(HB1H, 0)\n",
    "    GPIO.output(HB2L, 0)\n",
    "    GPIO.output(HB3H, 0)\n",
    "    GPIO.output(HB1L, 1)\n",
    "    GPIO.output(HB2H, 1)\n",
    "    GPIO.output(HB3L, 1)    \n",
    "    print(\"exiting HV_100v function\")\n",
    "    return"
   ]
  },
  {
   "cell_type": "code",
   "execution_count": 24,
   "id": "53a9188d",
   "metadata": {},
   "outputs": [],
   "source": [
    "def picos_on():\n",
    "    print(\"entering picos_on function\")\n",
    "    GPIO.output(HV100_ON, 1)\n",
    "    GPIO.output(HV300_ON, 1)\n",
    "    print(\"exiting picos_on function\")\n",
    "    return"
   ]
  },
  {
   "cell_type": "code",
   "execution_count": 25,
   "id": "a129b69b",
   "metadata": {},
   "outputs": [],
   "source": [
    "def picos_off():\n",
    "    print(\"entering picos_off function\")\n",
    "    GPIO.output(HV100_ON, 0)\n",
    "    GPIO.output(HV300_ON, 0)\n",
    "    print(\"exiting picos_off function\")\n",
    "    return"
   ]
  },
  {
   "cell_type": "code",
   "execution_count": 26,
   "id": "c121b7ec",
   "metadata": {},
   "outputs": [],
   "source": [
    "def power_up():\n",
    "    print(\"entering power_up function\")\n",
    "    H_Bridge_float()\n",
    "    picos_on()    \n",
    "    HV_400v()\n",
    "    print(\"exiting power_up function\")\n",
    "    return"
   ]
  },
  {
   "cell_type": "code",
   "execution_count": 27,
   "id": "824d07fb",
   "metadata": {},
   "outputs": [],
   "source": [
    "def power_down():\n",
    "    print(\"entering power_down function\")\n",
    "    picos_off()    \n",
    "    discharge()\n",
    "    H_Bridge_float()\n",
    "    print(\"exiting power_down function\")\n",
    "    return"
   ]
  },
  {
   "cell_type": "code",
   "execution_count": 28,
   "id": "b3fd8ea1",
   "metadata": {},
   "outputs": [],
   "source": [
    "def H_Bridge_float():\n",
    "    print(\"entering H_Bridge_float function\")\n",
    "    time.sleep(sleep)\n",
    "    GPIO.output(HB1H, 0)\n",
    "    time.sleep(sleep)\n",
    "    GPIO.output(HB2H, 0)\n",
    "    time.sleep(sleep)\n",
    "    GPIO.output(HB3H, 0)\n",
    "    time.sleep(sleep)\n",
    "    GPIO.output(HB1L, 0)\n",
    "    time.sleep(sleep)\n",
    "    GPIO.output(HB2L, 0)\n",
    "    time.sleep(sleep)\n",
    "    GPIO.output(HB3L, 0)\n",
    "    time.sleep(sleep)\n",
    "    print(\"exiting H_Bridge_float function\")\n",
    "    return"
   ]
  },
  {
   "cell_type": "code",
   "execution_count": 29,
   "id": "00a49422",
   "metadata": {},
   "outputs": [],
   "source": [
    "def H_Bridge_ground():\n",
    "    print(\"entering H_Bridge_ground function\")\n",
    "    time.sleep(sleep)\n",
    "    GPIO.output(HB1H, 0)\n",
    "    time.sleep(sleep)\n",
    "    GPIO.output(HB2H, 0)\n",
    "    time.sleep(sleep)\n",
    "    GPIO.output(HB3H, 0)\n",
    "    time.sleep(sleep)\n",
    "    GPIO.output(HB1L, 1)\n",
    "    time.sleep(sleep)\n",
    "    GPIO.output(HB2L, 1)\n",
    "    time.sleep(sleep)\n",
    "    GPIO.output(HB3L, 1)\n",
    "    time.sleep(sleep)\n",
    "    print(\"exiting H_Bridge_ground function\")\n",
    "    return"
   ]
  },
  {
   "cell_type": "code",
   "execution_count": 30,
   "id": "67b6c45e",
   "metadata": {},
   "outputs": [],
   "source": [
    "def discharge():\n",
    "    print(\"entering discharge function\")\n",
    "    picos_off()\n",
    "    GPIO.output(DISCHARGE100V, 1)\n",
    "    GPIO.output(DISCHARGE300V, 1)\n",
    "    time.sleep(RC_time_constant)\n",
    "    GPIO.output(DISCHARGE100V, 0)\n",
    "    GPIO.output(DISCHARGE300V, 0)\n",
    "    print(\"exiting discharge function\")\n",
    "    return"
   ]
  },
  {
   "cell_type": "markdown",
   "id": "45df2078",
   "metadata": {},
   "source": [
    "# power_up() power_down() HV_400v() HV_100v() picos_on() picos_off()\n",
    "# H_Bridge_float() H_Bridge_ground() discharge() polarity_swap()\n",
    "# status() inject_numpy() blank_display()\n",
    "\n",
    "# HV507_all_on() HV507_all_off() HV507_invert_mode()\n",
    "\n",
    "# HV507_load_shift_register(bit)\n",
    "# HV507_load_shift_register_low()\n",
    "# HV507_load_shift_register_high()\n",
    "# HV507_store_data_in_latches()\n",
    "# HV507_store_data_in_latches_not()"
   ]
  },
  {
   "cell_type": "code",
   "execution_count": 31,
   "id": "ab46953b",
   "metadata": {},
   "outputs": [
    {
     "name": "stdout",
     "output_type": "stream",
     "text": [
      "entering power_up function\n",
      "entering H_Bridge_float function\n",
      "exiting H_Bridge_float function\n",
      "entering picos_on function\n",
      "exiting picos_on function\n",
      "entering HV_400v function\n",
      "exiting HV_400v function\n",
      "exiting power_up function\n"
     ]
    }
   ],
   "source": [
    "power_up()"
   ]
  },
  {
   "cell_type": "code",
   "execution_count": 49,
   "id": "57c628f1",
   "metadata": {},
   "outputs": [],
   "source": [
    "blank_display()"
   ]
  },
  {
   "cell_type": "code",
   "execution_count": 57,
   "id": "14e0ce84",
   "metadata": {},
   "outputs": [
    {
     "ename": "SyntaxError",
     "evalue": "invalid syntax (1717774632.py, line 1)",
     "output_type": "error",
     "traceback": [
      "\u001b[0;36m  Cell \u001b[0;32mIn [57], line 1\u001b[0;36m\u001b[0m\n\u001b[0;31m    While True:\u001b[0m\n\u001b[0m          ^\u001b[0m\n\u001b[0;31mSyntaxError\u001b[0m\u001b[0;31m:\u001b[0m invalid syntax\n"
     ]
    }
   ],
   "source": [
    "While True:\n",
    "    polarity_swap()\n",
    "    time.sleep(1)"
   ]
  },
  {
   "cell_type": "code",
   "execution_count": 52,
   "id": "c043f6f0",
   "metadata": {},
   "outputs": [
    {
     "name": "stdout",
     "output_type": "stream",
     "text": [
      "row =  8  col =  0  val =  0\n",
      "row =  8  col =  1  val =  1\n",
      "row =  8  col =  2  val =  1\n",
      "row =  8  col =  3  val =  1\n",
      "row =  8  col =  4  val =  1\n",
      "row =  8  col =  5  val =  1\n",
      "row =  8  col =  6  val =  1\n",
      "row =  8  col =  7  val =  1\n",
      "row =  8  col =  8  val =  1\n",
      "row =  8  col =  9  val =  1\n",
      "row =  8  col =  10  val =  1\n",
      "row =  8  col =  11  val =  1\n",
      "row =  8  col =  12  val =  1\n",
      "row =  8  col =  13  val =  1\n",
      "row =  8  col =  14  val =  0\n",
      "row =  8  col =  15  val =  0\n",
      "row =  9  col =  0  val =  0\n",
      "row =  9  col =  1  val =  1\n",
      "row =  9  col =  2  val =  1\n",
      "row =  9  col =  3  val =  1\n",
      "row =  9  col =  4  val =  1\n",
      "row =  9  col =  5  val =  1\n",
      "row =  9  col =  6  val =  1\n",
      "row =  9  col =  7  val =  1\n",
      "row =  9  col =  8  val =  1\n",
      "row =  9  col =  9  val =  1\n",
      "row =  9  col =  10  val =  1\n",
      "row =  9  col =  11  val =  1\n",
      "row =  9  col =  12  val =  1\n",
      "row =  9  col =  13  val =  0\n",
      "row =  9  col =  14  val =  0\n",
      "row =  9  col =  15  val =  0\n",
      "row =  10  col =  0  val =  0\n",
      "row =  10  col =  1  val =  1\n",
      "row =  10  col =  2  val =  1\n",
      "row =  10  col =  3  val =  1\n",
      "row =  10  col =  4  val =  1\n",
      "row =  10  col =  5  val =  1\n",
      "row =  10  col =  6  val =  1\n",
      "row =  10  col =  7  val =  1\n",
      "row =  10  col =  8  val =  1\n",
      "row =  10  col =  9  val =  1\n",
      "row =  10  col =  10  val =  1\n",
      "row =  10  col =  11  val =  0\n",
      "row =  10  col =  12  val =  0\n",
      "row =  10  col =  13  val =  0\n",
      "row =  10  col =  14  val =  0\n",
      "row =  10  col =  15  val =  0\n",
      "row =  11  col =  0  val =  0\n",
      "row =  11  col =  1  val =  0\n",
      "row =  11  col =  2  val =  0\n",
      "row =  11  col =  3  val =  0\n",
      "row =  11  col =  4  val =  0\n",
      "row =  11  col =  5  val =  0\n",
      "row =  11  col =  6  val =  0\n",
      "row =  11  col =  7  val =  0\n",
      "row =  11  col =  8  val =  0\n",
      "row =  11  col =  9  val =  0\n",
      "row =  11  col =  10  val =  0\n",
      "row =  11  col =  11  val =  0\n",
      "row =  11  col =  12  val =  0\n",
      "row =  11  col =  13  val =  0\n",
      "row =  11  col =  14  val =  0\n",
      "row =  11  col =  15  val =  0\n",
      "row =  4  col =  0  val =  0\n",
      "row =  4  col =  1  val =  0\n",
      "row =  4  col =  2  val =  1\n",
      "row =  4  col =  3  val =  1\n",
      "row =  4  col =  4  val =  1\n",
      "row =  4  col =  5  val =  1\n",
      "row =  4  col =  6  val =  1\n",
      "row =  4  col =  7  val =  1\n",
      "row =  4  col =  8  val =  1\n",
      "row =  4  col =  9  val =  1\n",
      "row =  4  col =  10  val =  0\n",
      "row =  4  col =  11  val =  0\n",
      "row =  4  col =  12  val =  1\n",
      "row =  4  col =  13  val =  1\n",
      "row =  4  col =  14  val =  0\n",
      "row =  4  col =  15  val =  0\n",
      "row =  5  col =  0  val =  0\n",
      "row =  5  col =  1  val =  0\n",
      "row =  5  col =  2  val =  0\n",
      "row =  5  col =  3  val =  1\n",
      "row =  5  col =  4  val =  1\n",
      "row =  5  col =  5  val =  1\n",
      "row =  5  col =  6  val =  1\n",
      "row =  5  col =  7  val =  1\n",
      "row =  5  col =  8  val =  1\n",
      "row =  5  col =  9  val =  0\n",
      "row =  5  col =  10  val =  0\n",
      "row =  5  col =  11  val =  0\n",
      "row =  5  col =  12  val =  0\n",
      "row =  5  col =  13  val =  1\n",
      "row =  5  col =  14  val =  1\n",
      "row =  5  col =  15  val =  0\n",
      "row =  6  col =  0  val =  0\n",
      "row =  6  col =  1  val =  0\n",
      "row =  6  col =  2  val =  0\n",
      "row =  6  col =  3  val =  1\n",
      "row =  6  col =  4  val =  1\n",
      "row =  6  col =  5  val =  1\n",
      "row =  6  col =  6  val =  1\n",
      "row =  6  col =  7  val =  1\n",
      "row =  6  col =  8  val =  1\n",
      "row =  6  col =  9  val =  0\n",
      "row =  6  col =  10  val =  0\n",
      "row =  6  col =  11  val =  0\n",
      "row =  6  col =  12  val =  0\n",
      "row =  6  col =  13  val =  1\n",
      "row =  6  col =  14  val =  1\n",
      "row =  6  col =  15  val =  0\n",
      "row =  7  col =  0  val =  0\n",
      "row =  7  col =  1  val =  0\n",
      "row =  7  col =  2  val =  1\n",
      "row =  7  col =  3  val =  1\n",
      "row =  7  col =  4  val =  1\n",
      "row =  7  col =  5  val =  1\n",
      "row =  7  col =  6  val =  1\n",
      "row =  7  col =  7  val =  1\n",
      "row =  7  col =  8  val =  1\n",
      "row =  7  col =  9  val =  1\n",
      "row =  7  col =  10  val =  0\n",
      "row =  7  col =  11  val =  0\n",
      "row =  7  col =  12  val =  1\n",
      "row =  7  col =  13  val =  1\n",
      "row =  7  col =  14  val =  0\n",
      "row =  7  col =  15  val =  0\n",
      "row =  0  col =  0  val =  0\n",
      "row =  0  col =  1  val =  0\n",
      "row =  0  col =  2  val =  0\n",
      "row =  0  col =  3  val =  0\n",
      "row =  0  col =  4  val =  0\n",
      "row =  0  col =  5  val =  0\n",
      "row =  0  col =  6  val =  0\n",
      "row =  0  col =  7  val =  0\n",
      "row =  0  col =  8  val =  0\n",
      "row =  0  col =  9  val =  0\n",
      "row =  0  col =  10  val =  0\n",
      "row =  0  col =  11  val =  0\n",
      "row =  0  col =  12  val =  0\n",
      "row =  0  col =  13  val =  0\n",
      "row =  0  col =  14  val =  0\n",
      "row =  0  col =  15  val =  0\n",
      "row =  1  col =  0  val =  0\n",
      "row =  1  col =  1  val =  1\n",
      "row =  1  col =  2  val =  1\n",
      "row =  1  col =  3  val =  1\n",
      "row =  1  col =  4  val =  1\n",
      "row =  1  col =  5  val =  1\n",
      "row =  1  col =  6  val =  1\n",
      "row =  1  col =  7  val =  1\n",
      "row =  1  col =  8  val =  1\n",
      "row =  1  col =  9  val =  1\n",
      "row =  1  col =  10  val =  1\n",
      "row =  1  col =  11  val =  0\n",
      "row =  1  col =  12  val =  0\n",
      "row =  1  col =  13  val =  0\n",
      "row =  1  col =  14  val =  0\n",
      "row =  1  col =  15  val =  0\n",
      "row =  2  col =  0  val =  0\n",
      "row =  2  col =  1  val =  1\n",
      "row =  2  col =  2  val =  1\n",
      "row =  2  col =  3  val =  1\n",
      "row =  2  col =  4  val =  1\n",
      "row =  2  col =  5  val =  1\n",
      "row =  2  col =  6  val =  1\n",
      "row =  2  col =  7  val =  1\n",
      "row =  2  col =  8  val =  1\n",
      "row =  2  col =  9  val =  1\n",
      "row =  2  col =  10  val =  1\n",
      "row =  2  col =  11  val =  1\n",
      "row =  2  col =  12  val =  1\n",
      "row =  2  col =  13  val =  0\n",
      "row =  2  col =  14  val =  0\n",
      "row =  2  col =  15  val =  0\n",
      "row =  3  col =  0  val =  0\n",
      "row =  3  col =  1  val =  1\n",
      "row =  3  col =  2  val =  1\n",
      "row =  3  col =  3  val =  1\n",
      "row =  3  col =  4  val =  1\n",
      "row =  3  col =  5  val =  1\n",
      "row =  3  col =  6  val =  1\n",
      "row =  3  col =  7  val =  1\n",
      "row =  3  col =  8  val =  1\n",
      "row =  3  col =  9  val =  1\n",
      "row =  3  col =  10  val =  1\n",
      "row =  3  col =  11  val =  1\n",
      "row =  3  col =  12  val =  1\n",
      "row =  3  col =  13  val =  0\n",
      "row =  3  col =  14  val =  0\n",
      "row =  3  col =  15  val =  0\n"
     ]
    }
   ],
   "source": [
    "inject_numpy()"
   ]
  },
  {
   "cell_type": "markdown",
   "id": "970050bc",
   "metadata": {},
   "source": [
    "while True:\n",
    "    for x in range(16):\n",
    "        inject_numpy()\n",
    "        time.sleep(0.1)     \n",
    "        d = np.roll(d,1, axis=1)\n",
    "    polarity_swap()"
   ]
  },
  {
   "cell_type": "code",
   "execution_count": null,
   "id": "b4a54fd9",
   "metadata": {},
   "outputs": [],
   "source": []
  },
  {
   "cell_type": "code",
   "execution_count": null,
   "id": "b2a53125",
   "metadata": {},
   "outputs": [],
   "source": []
  },
  {
   "cell_type": "code",
   "execution_count": null,
   "id": "f8826e27",
   "metadata": {},
   "outputs": [],
   "source": []
  }
 ],
 "metadata": {
  "kernelspec": {
   "display_name": "Python 3 (ipykernel)",
   "language": "python",
   "name": "python3"
  },
  "language_info": {
   "codemirror_mode": {
    "name": "ipython",
    "version": 3
   },
   "file_extension": ".py",
   "mimetype": "text/x-python",
   "name": "python",
   "nbconvert_exporter": "python",
   "pygments_lexer": "ipython3",
   "version": "3.9.2"
  }
 },
 "nbformat": 4,
 "nbformat_minor": 5
}

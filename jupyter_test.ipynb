{
 "cells": [
  {
   "cell_type": "code",
   "execution_count": 1,
   "id": "3ef8e74b",
   "metadata": {},
   "outputs": [
    {
     "name": "stdout",
     "output_type": "stream",
     "text": [
      "Hello\n"
     ]
    }
   ],
   "source": [
    "print(\"Hello\")"
   ]
  },
  {
   "cell_type": "code",
   "execution_count": 2,
   "id": "2fc979ca",
   "metadata": {},
   "outputs": [],
   "source": [
    "# git stuff\n",
    "# Import Module\n",
    "from tkinter import *\n",
    "import RPi.GPIO as GPIO\n",
    "import time\n",
    "from openpyxl import Workbook, load_workbook\n",
    "from openpyxl.utils import get_column_letter"
   ]
  },
  {
   "cell_type": "code",
   "execution_count": 3,
   "id": "98e7bcf4",
   "metadata": {},
   "outputs": [],
   "source": [
    "GPIO.setmode(GPIO.BCM)\n",
    "GPIO.setwarnings(False)\n",
    "# GPIO.cleanup()"
   ]
  },
  {
   "cell_type": "code",
   "execution_count": 4,
   "id": "ad07bc90",
   "metadata": {},
   "outputs": [],
   "source": [
    "wb = load_workbook('DAK.xlsx')\n",
    "ws = wb['Sheet2']"
   ]
  },
  {
   "cell_type": "code",
   "execution_count": 5,
   "id": "22d0b69d",
   "metadata": {},
   "outputs": [],
   "source": [
    "## Hardware ##\n",
    "data = 2 #  26 DIOA on HV507, 14 SER on 74HC595 - Red\n",
    "NBL = 3 #   29 !BL on HV507,  10 !SRCLR on 74HC595 - Green\n",
    "NPol = 4 #  30 !POL on HV507, not present on 74HC595 - Clear\n",
    "CLK  = 17 # 37 CLK on HV507,  11 SRCLK on 74HC595 - Blue\n",
    "NLE = 27 #  38 !LE on HV507,  12 RCLK on 74HC595 - Yellow"
   ]
  },
  {
   "cell_type": "code",
   "execution_count": 6,
   "id": "02e1af07",
   "metadata": {},
   "outputs": [],
   "source": [
    "HB1L = 19 # opto-isolator U4\n",
    "HB1H = 26 # opto-isolator U5\n",
    "HB2L = 6 #  opto-isolator U7\n",
    "HB2H = 13 # opto-isolator U6\n",
    "HB3L = 9 #  opto-isolator U8\n",
    "HB3H = 11 # opto-isolator U9\n",
    "HV100_ON = 20 # U3\n",
    "HV300_ON = 21 # U2\n",
    "DISCHARGE100V = 23 # MOSFET U10\n",
    "DISCHARGE300V = 24 # MOSFET U11"
   ]
  },
  {
   "cell_type": "code",
   "execution_count": 7,
   "id": "736f6d3c",
   "metadata": {},
   "outputs": [],
   "source": [
    "GPIO.setup(data, GPIO.OUT, initial = 0)\n",
    "GPIO.setup(NBL, GPIO.OUT, initial = 0)\n",
    "GPIO.setup(NPol, GPIO.OUT, initial = 1)\n",
    "GPIO.setup(CLK, GPIO.OUT, initial = 0)\n",
    "GPIO.setup(NLE, GPIO.OUT, initial = 0)"
   ]
  },
  {
   "cell_type": "code",
   "execution_count": 8,
   "id": "654535b0",
   "metadata": {},
   "outputs": [],
   "source": [
    "GPIO.setup(HB1L, GPIO.OUT, initial = 0)\n",
    "GPIO.setup(HB1H, GPIO.OUT, initial = 0)\n",
    "GPIO.setup(HB2L, GPIO.OUT, initial = 0)\n",
    "GPIO.setup(HB2H, GPIO.OUT, initial = 0)\n",
    "GPIO.setup(HB3L, GPIO.OUT, initial = 0)\n",
    "GPIO.setup(HB3H, GPIO.OUT, initial = 0)\n",
    "GPIO.setup(HV100_ON, GPIO.OUT, initial = 0)\n",
    "GPIO.setup(HV300_ON, GPIO.OUT, initial = 0)\n",
    "GPIO.setup(DISCHARGE100V, GPIO.OUT, initial = 0)\n",
    "GPIO.setup(DISCHARGE300V, GPIO.OUT, initial = 0)"
   ]
  },
  {
   "cell_type": "code",
   "execution_count": 9,
   "id": "b0cd94fe",
   "metadata": {},
   "outputs": [],
   "source": [
    "size = 256\n",
    "polarity = 1\n",
    "RC_time_constant = 1 # delay for capcitor RC time constant\n",
    "sleep = 0.01\n",
    "#bit = 1"
   ]
  },
  {
   "cell_type": "code",
   "execution_count": 10,
   "id": "af597aee",
   "metadata": {},
   "outputs": [],
   "source": [
    "# Create Object\n",
    "win = Tk()\n",
    " \n",
    "# Add Title\n",
    "win.title('NVMG')\n",
    " \n",
    "# Add Geometry\n",
    "# win.geometry(\"500x300\")\n",
    " \n",
    "# Keep track of the button state on/off\n",
    "global is_on\n",
    "is_on = False\n",
    " \n",
    "# Define our switch function\n",
    "running = False  # Global flag\n",
    "\n",
    "def scanning():\n",
    "    if running:  # Only do this if the Stop button has not been clicked\n",
    "        polarity_swap()\n",
    "    # After 1 second, call scanning again (create a recursive loop)\n",
    "    win.after(1000, scanning)\n",
    "\n",
    "def start():\n",
    "    \"\"\"Enable scanning by setting the global flag to True.\"\"\"\n",
    "    global running\n",
    "    running = True\n",
    "    \n",
    "def stop():\n",
    "    \"\"\"Stop scanning by setting the global flag to False.\"\"\"\n",
    "    global running\n",
    "    running = False    \n"
   ]
  },
  {
   "cell_type": "code",
   "execution_count": 11,
   "id": "8670b6a4",
   "metadata": {},
   "outputs": [],
   "source": [
    "def inject_pattern():\n",
    "#     i = 0\n",
    "    for row in range(9,13):\n",
    "        for col in range(1,17):\n",
    "#             i = i + 1\n",
    "            char = get_column_letter(col)\n",
    "            val = (ws[char + str(row)].value)\n",
    "            HV507_load_shift_register(val)\n",
    "#             print(i, char + str(row),\"=\", val)\n",
    "    for row in range(5,9):\n",
    "        for col in range(1,17):\n",
    "#             i = i + 1\n",
    "            char = get_column_letter(col)\n",
    "            val = (ws[char + str(row)].value)\n",
    "            HV507_load_shift_register(val)\n",
    "#             print(i, char + str(row),\"=\", val)\n",
    "    for row in range(1,5):\n",
    "        for col in range(1,17):\n",
    "#             i = i + 1\n",
    "            char = get_column_letter(col)\n",
    "            val = (ws[char + str(row)].value)\n",
    "            HV507_load_shift_register(val)\n",
    "#             print(i, char + str(row),\"=\", val)\n",
    "    HV507_store_data_in_latches()\n",
    "    return"
   ]
  },
  {
   "cell_type": "code",
   "execution_count": 12,
   "id": "7a058681",
   "metadata": {},
   "outputs": [],
   "source": [
    "def close():\n",
    "    print(\"entering close() function\")\n",
    "#     GPIO.cleanup()\n",
    "    win.destroy()\n",
    "    print(\"exiting close() function\")\n",
    "    return"
   ]
  },
  {
   "cell_type": "code",
   "execution_count": 13,
   "id": "a63bb639",
   "metadata": {},
   "outputs": [],
   "source": [
    "def status():\n",
    "    print(\"##### Status #####\")\n",
    "    print(\"data = \", GPIO.input(data))\n",
    "    print(\"NBL = \", GPIO.input(NBL))\n",
    "    print(\"CLK = \", GPIO.input(CLK))\n",
    "    print(\"NLE = \", GPIO.input(NLE))\n",
    "    print(\"NPol = \", GPIO.input(NPol))\n",
    "    print(\"HB1L = \", GPIO.input(HB1L), \" HB1H = \", GPIO.input(HB1H))\n",
    "    print(\"HB2L = \", GPIO.input(HB2L), \" HB2H = \", GPIO.input(HB2H))\n",
    "    print(\"HB3L = \", GPIO.input(HB3L), \" HB3H = \", GPIO.input(HB3H))\n",
    "    print(\"HV100_ON = \", GPIO.input(HV100_ON))\n",
    "    print(\"HV300_ON = \", GPIO.input(HV300_ON ))\n",
    "    print(\"DISCHARGE100V = \", GPIO.input(DISCHARGE100V))\n",
    "    print(\"DISCHARGE300V = \", GPIO.input(DISCHARGE300V))\n",
    "    print(\"##################\")\n",
    "    return"
   ]
  },
  {
   "cell_type": "code",
   "execution_count": 14,
   "id": "bdb25f99",
   "metadata": {},
   "outputs": [],
   "source": [
    "def blank_display():\n",
    "    for x in range(size):\n",
    "        HV507_load_shift_register_low()\n",
    "    HV507_store_data_in_latches()\n",
    "    return"
   ]
  },
  {
   "cell_type": "code",
   "execution_count": 15,
   "id": "0df7adc8",
   "metadata": {},
   "outputs": [],
   "source": [
    "def HV507_all_on():    \n",
    "    GPIO.output(NBL, 0)\n",
    "    GPIO.output(NPol, 0)\n",
    "    return"
   ]
  },
  {
   "cell_type": "code",
   "execution_count": 16,
   "id": "91b74176",
   "metadata": {},
   "outputs": [],
   "source": [
    "def HV507_all_off():    \n",
    "    GPIO.output(NBL, 0)\n",
    "    GPIO.output(NPol, 1)\n",
    "    return"
   ]
  },
  {
   "cell_type": "code",
   "execution_count": 17,
   "id": "c08a0d23",
   "metadata": {},
   "outputs": [],
   "source": [
    "def HV507_invert_mode():\n",
    "    GPIO.output(NLE, 0)\n",
    "    GPIO.output(NBL, 1)\n",
    "    GPIO.output(NPol, 0)\n",
    "    return"
   ]
  },
  {
   "cell_type": "code",
   "execution_count": 18,
   "id": "4a381caf",
   "metadata": {},
   "outputs": [],
   "source": [
    "def HV507_load_shift_register(bit):\n",
    "    GPIO.output(data, bit)\n",
    "    GPIO.output(NLE, 0)\n",
    "    GPIO.output(NBL, 1)\n",
    "    GPIO.output(NPol, 1)\n",
    "    GPIO.output(CLK, 1)\n",
    "    GPIO.output(CLK, 0)\n",
    "    return"
   ]
  },
  {
   "cell_type": "code",
   "execution_count": 19,
   "id": "c33f25b7",
   "metadata": {},
   "outputs": [],
   "source": [
    "def HV507_load_shift_register_low():\n",
    "    GPIO.output(data, 0)\n",
    "    GPIO.output(NLE, 0)\n",
    "    GPIO.output(NBL, 1)\n",
    "    GPIO.output(NPol, 1)\n",
    "    GPIO.output(CLK, 1)\n",
    "    GPIO.output(CLK, 0)\n",
    "    return"
   ]
  },
  {
   "cell_type": "code",
   "execution_count": 20,
   "id": "1ff9dd23",
   "metadata": {},
   "outputs": [],
   "source": [
    "def HV507_load_shift_register_high():\n",
    "    GPIO.output(data, 1)\n",
    "    GPIO.output(NLE, 0)\n",
    "    GPIO.output(NBL, 1)\n",
    "    GPIO.output(NPol, 1)\n",
    "    GPIO.output(CLK, 1)\n",
    "    GPIO.output(CLK, 0)\n",
    "    return"
   ]
  },
  {
   "cell_type": "code",
   "execution_count": 21,
   "id": "54e2efb7",
   "metadata": {},
   "outputs": [],
   "source": [
    "def HV507_store_data_in_latches():    \n",
    "    GPIO.output(NBL, 1)\n",
    "    GPIO.output(NPol, 1)\n",
    "    GPIO.output(NLE, 0)\n",
    "    GPIO.output(NLE, 1) \n",
    "    return"
   ]
  },
  {
   "cell_type": "code",
   "execution_count": 22,
   "id": "a16e44f3",
   "metadata": {},
   "outputs": [],
   "source": [
    "def HV507_store_data_in_latches_not():    \n",
    "    GPIO.output(NBL, 1)\n",
    "    GPIO.output(NPol, 0)\n",
    "    GPIO.output(NLE, 0)\n",
    "    GPIO.output(NLE, 1) \n",
    "    return"
   ]
  },
  {
   "cell_type": "code",
   "execution_count": 23,
   "id": "accd0251",
   "metadata": {},
   "outputs": [],
   "source": [
    "######################################################################################\n",
    "################################# H-Bridge Functions #################################\n",
    "######################################################################################"
   ]
  },
  {
   "cell_type": "code",
   "execution_count": 24,
   "id": "c6593e10",
   "metadata": {},
   "outputs": [],
   "source": [
    "def polarity_swap():\n",
    "#     print(\"entering polarity_swap() function\")\n",
    "#     time.sleep(sleep)\n",
    "    global polarity\n",
    "    polarity = (1 - polarity)\n",
    "    GPIO.output(NPol, polarity)\n",
    "    if polarity == 1:\n",
    "        HV_400v()\n",
    "#         print(\"exiting polarity_swap() function with 300V and polarity of \", polarity)\n",
    "        return\n",
    "    HV_100v()\n",
    "#     print(\"exiting polarity_swap() function with 100V and polarity of \", polarity)\n",
    "    return"
   ]
  },
  {
   "cell_type": "code",
   "execution_count": 25,
   "id": "f12416e2",
   "metadata": {},
   "outputs": [],
   "source": [
    "def HV_400v():\n",
    "    print(\"entering HV_400v function\")\n",
    "    GPIO.output(HB1L, 0)\n",
    "    GPIO.output(HB2H, 0)\n",
    "    GPIO.output(HB3L, 0)\n",
    "    GPIO.output(HB1H, 1)\n",
    "    GPIO.output(HB2L, 1)    \n",
    "    GPIO.output(HB3H, 1)\n",
    "    print(\"exiting HV_400v function\")\n",
    "    return"
   ]
  },
  {
   "cell_type": "code",
   "execution_count": 26,
   "id": "03461f9c",
   "metadata": {},
   "outputs": [],
   "source": [
    "def HV_100v():\n",
    "    print(\"entering HV_100v function\")\n",
    "    GPIO.output(HB1H, 0)\n",
    "    GPIO.output(HB2L, 0)\n",
    "    GPIO.output(HB3H, 0)\n",
    "    GPIO.output(HB1L, 1)\n",
    "    GPIO.output(HB2H, 1)\n",
    "    GPIO.output(HB3L, 1)    \n",
    "    print(\"exiting HV_100v function\")\n",
    "    return"
   ]
  },
  {
   "cell_type": "code",
   "execution_count": 27,
   "id": "53a9188d",
   "metadata": {},
   "outputs": [],
   "source": [
    "def picos_on():\n",
    "    print(\"entering picos_on function\")\n",
    "    GPIO.output(HV100_ON, 1)\n",
    "    GPIO.output(HV300_ON, 1)\n",
    "    print(\"exiting picos_on function\")\n",
    "    return"
   ]
  },
  {
   "cell_type": "code",
   "execution_count": 28,
   "id": "a129b69b",
   "metadata": {},
   "outputs": [],
   "source": [
    "def picos_off():\n",
    "    print(\"entering picos_off function\")\n",
    "    GPIO.output(HV100_ON, 0)\n",
    "    GPIO.output(HV300_ON, 0)\n",
    "    print(\"exiting picos_off function\")\n",
    "    return"
   ]
  },
  {
   "cell_type": "code",
   "execution_count": 29,
   "id": "c121b7ec",
   "metadata": {},
   "outputs": [],
   "source": [
    "def power_up():\n",
    "    print(\"entering power_up function\")\n",
    "    H_Bridge_float()\n",
    "    picos_on()    \n",
    "    HV_400v()\n",
    "    print(\"exiting power_up function\")\n",
    "    return"
   ]
  },
  {
   "cell_type": "code",
   "execution_count": 30,
   "id": "824d07fb",
   "metadata": {},
   "outputs": [],
   "source": [
    "def power_down():\n",
    "    print(\"entering power_down function\")\n",
    "    picos_off()    \n",
    "    discharge()\n",
    "    H_Bridge_float()\n",
    "    print(\"exiting power_down function\")\n",
    "    return"
   ]
  },
  {
   "cell_type": "code",
   "execution_count": 31,
   "id": "b3fd8ea1",
   "metadata": {},
   "outputs": [],
   "source": [
    "def H_Bridge_float():\n",
    "    print(\"entering H_Bridge_float function\")\n",
    "    time.sleep(sleep)\n",
    "    GPIO.output(HB1H, 0)\n",
    "    time.sleep(sleep)\n",
    "    GPIO.output(HB2H, 0)\n",
    "    time.sleep(sleep)\n",
    "    GPIO.output(HB3H, 0)\n",
    "    time.sleep(sleep)\n",
    "    GPIO.output(HB1L, 0)\n",
    "    time.sleep(sleep)\n",
    "    GPIO.output(HB2L, 0)\n",
    "    time.sleep(sleep)\n",
    "    GPIO.output(HB3L, 0)\n",
    "    time.sleep(sleep)\n",
    "    print(\"exiting H_Bridge_float function\")\n",
    "    return"
   ]
  },
  {
   "cell_type": "code",
   "execution_count": 32,
   "id": "00a49422",
   "metadata": {},
   "outputs": [],
   "source": [
    "def H_Bridge_ground():\n",
    "    print(\"entering H_Bridge_ground function\")\n",
    "    time.sleep(sleep)\n",
    "    GPIO.output(HB1H, 0)\n",
    "    time.sleep(sleep)\n",
    "    GPIO.output(HB2H, 0)\n",
    "    time.sleep(sleep)\n",
    "    GPIO.output(HB3H, 0)\n",
    "    time.sleep(sleep)\n",
    "    GPIO.output(HB1L, 1)\n",
    "    time.sleep(sleep)\n",
    "    GPIO.output(HB2L, 1)\n",
    "    time.sleep(sleep)\n",
    "    GPIO.output(HB3L, 1)\n",
    "    time.sleep(sleep)\n",
    "    print(\"exiting H_Bridge_ground function\")\n",
    "    return"
   ]
  },
  {
   "cell_type": "code",
   "execution_count": 33,
   "id": "67b6c45e",
   "metadata": {},
   "outputs": [],
   "source": [
    "def discharge():\n",
    "    print(\"entering discharge function\")\n",
    "    picos_off()\n",
    "    GPIO.output(DISCHARGE100V, 1)\n",
    "    GPIO.output(DISCHARGE300V, 1)\n",
    "    time.sleep(RC_time_constant)\n",
    "    GPIO.output(DISCHARGE100V, 0)\n",
    "    GPIO.output(DISCHARGE300V, 0)\n",
    "    print(\"exiting discharge function\")\n",
    "    return"
   ]
  },
  {
   "cell_type": "code",
   "execution_count": 34,
   "id": "78d0b48b",
   "metadata": {},
   "outputs": [
    {
     "name": "stdout",
     "output_type": "stream",
     "text": [
      "entering power_up function\n",
      "entering H_Bridge_float function\n",
      "exiting H_Bridge_float function\n",
      "entering picos_on function\n",
      "exiting picos_on function\n",
      "entering HV_400v function\n",
      "exiting HV_400v function\n",
      "exiting power_up function\n",
      "entering power_down function\n",
      "entering picos_off function\n",
      "exiting picos_off function\n",
      "entering discharge function\n",
      "entering picos_off function\n",
      "exiting picos_off function\n",
      "exiting discharge function\n",
      "entering H_Bridge_float function\n",
      "exiting H_Bridge_float function\n",
      "exiting power_down function\n",
      "entering power_up function\n",
      "entering H_Bridge_float function\n",
      "exiting H_Bridge_float function\n",
      "entering picos_on function\n",
      "exiting picos_on function\n",
      "entering HV_400v function\n",
      "exiting HV_400v function\n",
      "exiting power_up function\n",
      "entering HV_100v function\n",
      "exiting HV_100v function\n",
      "entering HV_400v function\n",
      "exiting HV_400v function\n",
      "entering HV_100v function\n",
      "exiting HV_100v function\n",
      "entering discharge function\n",
      "entering picos_off function\n",
      "exiting picos_off function\n",
      "exiting discharge function\n",
      "entering close() function\n",
      "exiting close() function\n"
     ]
    }
   ],
   "source": [
    "######################################################################################\n",
    "###################################### Widgets ######################################\n",
    "######################################################################################\n",
    "powerUpButton = Button(win, text = \"Power Up\", command = power_up)\n",
    "powerUpButton.pack()\n",
    "\n",
    "powerDownButton = Button(win, text = \"Power Down\", command = power_down)\n",
    "powerDownButton.pack()\n",
    "\n",
    "blankDisplayButton = Button(win, text = \"Blank Display\", command = blank_display)\n",
    "blankDisplayButton.pack()\n",
    "\n",
    "injectpatternButton = Button(win, text = \"Inject Pattern\", command = inject_pattern)\n",
    "injectpatternButton.pack()\n",
    "\n",
    "# allOnButton = Button(win, text = \"All On\", command = HV507_all_on)\n",
    "# allOnButton.pack()\n",
    "# \n",
    "# allOffButton = Button(win, text = \"All Off\", command = HV507_all_off)\n",
    "# allOffButton.pack()\n",
    "\n",
    "# invertModeButton = Button(win, text = \"Invert Mode\", command = HV507_invert_mode)\n",
    "# invertModeButton.pack()\n",
    "\n",
    "loadShiftRegisterLowButton = Button(win, text = \"Load Shift Register Low\", command = HV507_load_shift_register_low)\n",
    "loadShiftRegisterLowButton.pack()\n",
    "\n",
    "loadShiftRegisterHighButton = Button(win, text = \"Load Shift Register High\", command = HV507_load_shift_register_high)\n",
    "loadShiftRegisterHighButton.pack()\n",
    "\n",
    "storeDataInLatchesButton = Button(win, text = \"Store Data In Latches\", command = HV507_store_data_in_latches)\n",
    "storeDataInLatchesButton.pack()\n",
    "\n",
    "storeDataInLatchesNotButton = Button(win, text = \"Store Data In Latches NOT\", command = HV507_store_data_in_latches_not)\n",
    "storeDataInLatchesNotButton.pack()\n",
    "\n",
    "statusButton = Button(win, text = \"Status\", command = status)\n",
    "statusButton.pack()\n",
    "\n",
    "polaritySwapButton = Button(win, text = \"Polarity_Swap\", command = polarity_swap)\n",
    "polaritySwapButton.pack()\n",
    "\n",
    "# oscilateButton = Button(win, text = \"Oscilate\", command = oscilate)\n",
    "# oscilateButton.pack()\n",
    " \n",
    "startButton = Button(win, text=\"Start Polarity Swap\", command=start)\n",
    "startButton.pack()\n",
    "\n",
    "stopButton = Button(win, text=\"Stop Polarity Swap\", command=stop)\n",
    "stopButton.pack()\n",
    "\n",
    "dischargeButton = Button(win, text=\"Discharge\", command=discharge)\n",
    "dischargeButton.pack()\n",
    "\n",
    "exitButton = Button(win, text = \"Exit Program\", command = close)\n",
    "exitButton.pack()\n",
    "\n",
    "win.after(1000, scanning)  # After 1 second, call scanning\n",
    "\n",
    "win.protocol(\"WM_DELETE_WINDOW\", close) # exit cleanly\n",
    "\n",
    "win.mainloop() # loop forever"
   ]
  },
  {
   "cell_type": "code",
   "execution_count": 36,
   "id": "a2910f68",
   "metadata": {},
   "outputs": [
    {
     "name": "stdout",
     "output_type": "stream",
     "text": [
      "entering discharge function\n",
      "entering picos_off function\n",
      "exiting picos_off function\n",
      "exiting discharge function\n"
     ]
    }
   ],
   "source": [
    "discharge()"
   ]
  },
  {
   "cell_type": "code",
   "execution_count": null,
   "id": "ece0e8e7",
   "metadata": {},
   "outputs": [],
   "source": []
  }
 ],
 "metadata": {
  "kernelspec": {
   "display_name": "Python 3",
   "language": "python",
   "name": "python3"
  },
  "language_info": {
   "codemirror_mode": {
    "name": "ipython",
    "version": 3
   },
   "file_extension": ".py",
   "mimetype": "text/x-python",
   "name": "python",
   "nbconvert_exporter": "python",
   "pygments_lexer": "ipython3",
   "version": "3.9.2"
  }
 },
 "nbformat": 4,
 "nbformat_minor": 5
}
